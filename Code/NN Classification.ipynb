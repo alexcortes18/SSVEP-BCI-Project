{
 "cells": [
  {
   "cell_type": "code",
   "execution_count": 9,
   "metadata": {},
   "outputs": [],
   "source": [
    "import pandas as pd\n",
    "import numpy as np\n",
    "import matplotlib.pyplot as plt\n",
    "\n",
    "import tensorflow as tf\n",
    "from tensorflow.keras.models import Model, Sequential\n",
    "from tensorflow.keras.layers import LSTM, Dense, Dropout, RepeatVector, TimeDistributed"
   ]
  },
  {
   "cell_type": "code",
   "execution_count": 3,
   "metadata": {},
   "outputs": [],
   "source": [
    "data = pd.read_csv(\"data_60_points.csv\")\n",
    "final_df = pd.read_csv(\"real_trainable_data.csv\")"
   ]
  },
  {
   "cell_type": "code",
   "execution_count": 4,
   "metadata": {},
   "outputs": [
    {
     "data": {
      "text/html": [
       "<div>\n",
       "<style scoped>\n",
       "    .dataframe tbody tr th:only-of-type {\n",
       "        vertical-align: middle;\n",
       "    }\n",
       "\n",
       "    .dataframe tbody tr th {\n",
       "        vertical-align: top;\n",
       "    }\n",
       "\n",
       "    .dataframe thead th {\n",
       "        text-align: right;\n",
       "    }\n",
       "</style>\n",
       "<table border=\"1\" class=\"dataframe\">\n",
       "  <thead>\n",
       "    <tr style=\"text-align: right;\">\n",
       "      <th></th>\n",
       "      <th>0</th>\n",
       "      <th>1</th>\n",
       "      <th>2</th>\n",
       "      <th>3</th>\n",
       "      <th>4</th>\n",
       "      <th>5</th>\n",
       "      <th>6</th>\n",
       "      <th>7</th>\n",
       "      <th>8</th>\n",
       "      <th>9</th>\n",
       "      <th>...</th>\n",
       "      <th>471</th>\n",
       "      <th>472</th>\n",
       "      <th>473</th>\n",
       "      <th>474</th>\n",
       "      <th>475</th>\n",
       "      <th>476</th>\n",
       "      <th>477</th>\n",
       "      <th>478</th>\n",
       "      <th>479</th>\n",
       "      <th>Target</th>\n",
       "    </tr>\n",
       "  </thead>\n",
       "  <tbody>\n",
       "    <tr>\n",
       "      <th>0</th>\n",
       "      <td>24.292663</td>\n",
       "      <td>19.482136</td>\n",
       "      <td>8.624346</td>\n",
       "      <td>-0.932498</td>\n",
       "      <td>-0.395269</td>\n",
       "      <td>-0.455120</td>\n",
       "      <td>0.855522</td>\n",
       "      <td>0.265530</td>\n",
       "      <td>0.903650</td>\n",
       "      <td>0.375534</td>\n",
       "      <td>...</td>\n",
       "      <td>-17.311551</td>\n",
       "      <td>-22.457486</td>\n",
       "      <td>-28.753222</td>\n",
       "      <td>-27.479641</td>\n",
       "      <td>-28.066095</td>\n",
       "      <td>-25.329087</td>\n",
       "      <td>-24.605612</td>\n",
       "      <td>-24.266738</td>\n",
       "      <td>-21.633146</td>\n",
       "      <td>1.0</td>\n",
       "    </tr>\n",
       "    <tr>\n",
       "      <th>1</th>\n",
       "      <td>13.989555</td>\n",
       "      <td>10.538844</td>\n",
       "      <td>4.357757</td>\n",
       "      <td>-4.671976</td>\n",
       "      <td>-2.448575</td>\n",
       "      <td>-0.195571</td>\n",
       "      <td>0.800786</td>\n",
       "      <td>3.143261</td>\n",
       "      <td>5.239468</td>\n",
       "      <td>4.201113</td>\n",
       "      <td>...</td>\n",
       "      <td>-17.004589</td>\n",
       "      <td>-22.251523</td>\n",
       "      <td>-24.471177</td>\n",
       "      <td>-27.359055</td>\n",
       "      <td>-32.696794</td>\n",
       "      <td>-36.146539</td>\n",
       "      <td>-31.180339</td>\n",
       "      <td>-26.265950</td>\n",
       "      <td>-24.452572</td>\n",
       "      <td>2.0</td>\n",
       "    </tr>\n",
       "    <tr>\n",
       "      <th>2</th>\n",
       "      <td>28.226338</td>\n",
       "      <td>22.926922</td>\n",
       "      <td>12.568386</td>\n",
       "      <td>5.334923</td>\n",
       "      <td>5.037145</td>\n",
       "      <td>4.942274</td>\n",
       "      <td>5.231862</td>\n",
       "      <td>5.857457</td>\n",
       "      <td>4.706730</td>\n",
       "      <td>3.209744</td>\n",
       "      <td>...</td>\n",
       "      <td>-23.205840</td>\n",
       "      <td>-26.171166</td>\n",
       "      <td>-28.149451</td>\n",
       "      <td>-30.068256</td>\n",
       "      <td>-28.035475</td>\n",
       "      <td>-23.902512</td>\n",
       "      <td>-21.659425</td>\n",
       "      <td>-22.133117</td>\n",
       "      <td>-22.457960</td>\n",
       "      <td>3.0</td>\n",
       "    </tr>\n",
       "    <tr>\n",
       "      <th>3</th>\n",
       "      <td>10.275999</td>\n",
       "      <td>4.947967</td>\n",
       "      <td>-2.816720</td>\n",
       "      <td>-0.592784</td>\n",
       "      <td>3.641866</td>\n",
       "      <td>4.649932</td>\n",
       "      <td>2.646541</td>\n",
       "      <td>-1.270290</td>\n",
       "      <td>-2.929141</td>\n",
       "      <td>-6.799285</td>\n",
       "      <td>...</td>\n",
       "      <td>-23.478831</td>\n",
       "      <td>-25.957031</td>\n",
       "      <td>-28.022580</td>\n",
       "      <td>-31.121322</td>\n",
       "      <td>-33.086501</td>\n",
       "      <td>-26.612358</td>\n",
       "      <td>-23.061996</td>\n",
       "      <td>-22.466169</td>\n",
       "      <td>-24.421495</td>\n",
       "      <td>4.0</td>\n",
       "    </tr>\n",
       "    <tr>\n",
       "      <th>4</th>\n",
       "      <td>25.701159</td>\n",
       "      <td>19.995006</td>\n",
       "      <td>9.928850</td>\n",
       "      <td>2.699057</td>\n",
       "      <td>3.008508</td>\n",
       "      <td>3.815365</td>\n",
       "      <td>4.283556</td>\n",
       "      <td>5.071418</td>\n",
       "      <td>6.786370</td>\n",
       "      <td>5.908505</td>\n",
       "      <td>...</td>\n",
       "      <td>-16.841160</td>\n",
       "      <td>-16.545065</td>\n",
       "      <td>-18.070230</td>\n",
       "      <td>-22.589697</td>\n",
       "      <td>-27.299603</td>\n",
       "      <td>-27.420140</td>\n",
       "      <td>-24.701882</td>\n",
       "      <td>-23.104943</td>\n",
       "      <td>-23.844575</td>\n",
       "      <td>5.0</td>\n",
       "    </tr>\n",
       "  </tbody>\n",
       "</table>\n",
       "<p>5 rows × 481 columns</p>\n",
       "</div>"
      ],
      "text/plain": [
       "           0          1          2         3         4         5         6  \\\n",
       "0  24.292663  19.482136   8.624346 -0.932498 -0.395269 -0.455120  0.855522   \n",
       "1  13.989555  10.538844   4.357757 -4.671976 -2.448575 -0.195571  0.800786   \n",
       "2  28.226338  22.926922  12.568386  5.334923  5.037145  4.942274  5.231862   \n",
       "3  10.275999   4.947967  -2.816720 -0.592784  3.641866  4.649932  2.646541   \n",
       "4  25.701159  19.995006   9.928850  2.699057  3.008508  3.815365  4.283556   \n",
       "\n",
       "          7         8         9  ...        471        472        473  \\\n",
       "0  0.265530  0.903650  0.375534  ... -17.311551 -22.457486 -28.753222   \n",
       "1  3.143261  5.239468  4.201113  ... -17.004589 -22.251523 -24.471177   \n",
       "2  5.857457  4.706730  3.209744  ... -23.205840 -26.171166 -28.149451   \n",
       "3 -1.270290 -2.929141 -6.799285  ... -23.478831 -25.957031 -28.022580   \n",
       "4  5.071418  6.786370  5.908505  ... -16.841160 -16.545065 -18.070230   \n",
       "\n",
       "         474        475        476        477        478        479  Target  \n",
       "0 -27.479641 -28.066095 -25.329087 -24.605612 -24.266738 -21.633146     1.0  \n",
       "1 -27.359055 -32.696794 -36.146539 -31.180339 -26.265950 -24.452572     2.0  \n",
       "2 -30.068256 -28.035475 -23.902512 -21.659425 -22.133117 -22.457960     3.0  \n",
       "3 -31.121322 -33.086501 -26.612358 -23.061996 -22.466169 -24.421495     4.0  \n",
       "4 -22.589697 -27.299603 -27.420140 -24.701882 -23.104943 -23.844575     5.0  \n",
       "\n",
       "[5 rows x 481 columns]"
      ]
     },
     "execution_count": 4,
     "metadata": {},
     "output_type": "execute_result"
    }
   ],
   "source": [
    "final_df.head()"
   ]
  },
  {
   "cell_type": "code",
   "execution_count": 14,
   "metadata": {},
   "outputs": [],
   "source": [
    "inputs = final_df.drop(\"Target\", axis = 1)\n",
    "inputs = inputs.iloc[:,0:60]\n",
    "targets = final_df.Target \n",
    "targets = targets.apply(lambda x: int(x))"
   ]
  },
  {
   "cell_type": "markdown",
   "metadata": {},
   "source": [
    "### Own Train and Validation Split"
   ]
  },
  {
   "cell_type": "code",
   "execution_count": 15,
   "metadata": {},
   "outputs": [
    {
     "data": {
      "text/plain": [
       "((20808, 60), (20808,), (3672, 60), (3672,))"
      ]
     },
     "execution_count": 15,
     "metadata": {},
     "output_type": "execute_result"
    }
   ],
   "source": [
    "from sklearn.model_selection import train_test_split\n",
    "\n",
    "x_train, x_test, y_train, y_test = train_test_split(inputs, targets, test_size=0.15, random_state=42)\n",
    "x_train.shape, y_train.shape, x_test.shape, y_test.shape"
   ]
  },
  {
   "cell_type": "markdown",
   "metadata": {},
   "source": [
    "### Normalization and Standarization "
   ]
  },
  {
   "cell_type": "code",
   "execution_count": 22,
   "metadata": {},
   "outputs": [],
   "source": [
    "from sklearn.preprocessing import Normalizer, MinMaxScaler\n",
    "from sklearn.pipeline import Pipeline\n",
    "\n",
    "# configure our pipeline\n",
    "pipeline = Pipeline([('normalizer', Normalizer()),\n",
    "                     ('scaler', MinMaxScaler())])"
   ]
  },
  {
   "cell_type": "code",
   "execution_count": 24,
   "metadata": {},
   "outputs": [],
   "source": [
    "pipeline.fit(x_train)\n",
    "\n",
    "x_train = pipeline.transform(x_train)\n",
    "x_test = pipeline.transform(x_test)"
   ]
  },
  {
   "cell_type": "markdown",
   "metadata": {},
   "source": [
    "## NN MODEL"
   ]
  },
  {
   "cell_type": "code",
   "execution_count": 25,
   "metadata": {},
   "outputs": [
    {
     "name": "stdout",
     "output_type": "stream",
     "text": [
      "Model: \"sequential_2\"\n",
      "_________________________________________________________________\n",
      " Layer (type)                Output Shape              Param #   \n",
      "=================================================================\n",
      " dense_6 (Dense)             (None, 64)                3904      \n",
      "                                                                 \n",
      " dropout_4 (Dropout)         (None, 64)                0         \n",
      "                                                                 \n",
      " dense_7 (Dense)             (None, 64)                4160      \n",
      "                                                                 \n",
      " dropout_5 (Dropout)         (None, 64)                0         \n",
      "                                                                 \n",
      " dense_8 (Dense)             (None, 10)                650       \n",
      "                                                                 \n",
      "=================================================================\n",
      "Total params: 8,714\n",
      "Trainable params: 8,714\n",
      "Non-trainable params: 0\n",
      "_________________________________________________________________\n"
     ]
    }
   ],
   "source": [
    "model = Sequential()\n",
    "\n",
    "model.add(Dense(64, activation = \"relu\", input_dim=x_train.shape[1]))\n",
    "model.add(Dropout(0.5))\n",
    "model.add(Dense(64, activation = \"relu\"))\n",
    "model.add(Dropout(0.5))\n",
    "model.add(Dense(10, activation = \"relu\"))\n",
    "\n",
    "model.summary()"
   ]
  },
  {
   "cell_type": "code",
   "execution_count": 26,
   "metadata": {},
   "outputs": [],
   "source": [
    "model.compile(loss = \"sparse_categorical_crossentropy\", optimizer = \"adam\", metrics=['accuracy'])"
   ]
  },
  {
   "cell_type": "code",
   "execution_count": 27,
   "metadata": {},
   "outputs": [
    {
     "name": "stdout",
     "output_type": "stream",
     "text": [
      "Epoch 1/20\n",
      "326/326 - 3s - loss: nan - accuracy: 2.4029e-04 - val_loss: nan - val_accuracy: 0.0000e+00 - 3s/epoch - 9ms/step\n",
      "Epoch 2/20\n",
      "326/326 - 2s - loss: nan - accuracy: 0.0000e+00 - val_loss: nan - val_accuracy: 0.0000e+00 - 2s/epoch - 7ms/step\n",
      "Epoch 3/20\n",
      "326/326 - 2s - loss: nan - accuracy: 0.0000e+00 - val_loss: nan - val_accuracy: 0.0000e+00 - 2s/epoch - 7ms/step\n",
      "Epoch 4/20\n",
      "326/326 - 3s - loss: nan - accuracy: 0.0000e+00 - val_loss: nan - val_accuracy: 0.0000e+00 - 3s/epoch - 8ms/step\n",
      "Epoch 5/20\n",
      "326/326 - 2s - loss: nan - accuracy: 0.0000e+00 - val_loss: nan - val_accuracy: 0.0000e+00 - 2s/epoch - 8ms/step\n",
      "Epoch 6/20\n",
      "326/326 - 3s - loss: nan - accuracy: 0.0000e+00 - val_loss: nan - val_accuracy: 0.0000e+00 - 3s/epoch - 8ms/step\n",
      "Epoch 7/20\n",
      "326/326 - 3s - loss: nan - accuracy: 0.0000e+00 - val_loss: nan - val_accuracy: 0.0000e+00 - 3s/epoch - 10ms/step\n",
      "Epoch 8/20\n",
      "326/326 - 3s - loss: nan - accuracy: 0.0000e+00 - val_loss: nan - val_accuracy: 0.0000e+00 - 3s/epoch - 10ms/step\n",
      "Epoch 9/20\n",
      "326/326 - 3s - loss: nan - accuracy: 0.0000e+00 - val_loss: nan - val_accuracy: 0.0000e+00 - 3s/epoch - 10ms/step\n",
      "Epoch 10/20\n",
      "326/326 - 3s - loss: nan - accuracy: 0.0000e+00 - val_loss: nan - val_accuracy: 0.0000e+00 - 3s/epoch - 9ms/step\n",
      "Epoch 11/20\n",
      "326/326 - 3s - loss: nan - accuracy: 0.0000e+00 - val_loss: nan - val_accuracy: 0.0000e+00 - 3s/epoch - 9ms/step\n",
      "Epoch 12/20\n",
      "326/326 - 3s - loss: nan - accuracy: 0.0000e+00 - val_loss: nan - val_accuracy: 0.0000e+00 - 3s/epoch - 9ms/step\n",
      "Epoch 13/20\n",
      "326/326 - 3s - loss: nan - accuracy: 0.0000e+00 - val_loss: nan - val_accuracy: 0.0000e+00 - 3s/epoch - 10ms/step\n",
      "Epoch 14/20\n",
      "326/326 - 3s - loss: nan - accuracy: 0.0000e+00 - val_loss: nan - val_accuracy: 0.0000e+00 - 3s/epoch - 10ms/step\n",
      "Epoch 15/20\n",
      "326/326 - 3s - loss: nan - accuracy: 0.0000e+00 - val_loss: nan - val_accuracy: 0.0000e+00 - 3s/epoch - 9ms/step\n",
      "Epoch 16/20\n",
      "326/326 - 3s - loss: nan - accuracy: 0.0000e+00 - val_loss: nan - val_accuracy: 0.0000e+00 - 3s/epoch - 10ms/step\n",
      "Epoch 17/20\n",
      "326/326 - 3s - loss: nan - accuracy: 0.0000e+00 - val_loss: nan - val_accuracy: 0.0000e+00 - 3s/epoch - 9ms/step\n",
      "Epoch 18/20\n",
      "326/326 - 3s - loss: nan - accuracy: 0.0000e+00 - val_loss: nan - val_accuracy: 0.0000e+00 - 3s/epoch - 10ms/step\n",
      "Epoch 19/20\n",
      "326/326 - 3s - loss: nan - accuracy: 0.0000e+00 - val_loss: nan - val_accuracy: 0.0000e+00 - 3s/epoch - 10ms/step\n",
      "Epoch 20/20\n",
      "326/326 - 3s - loss: nan - accuracy: 0.0000e+00 - val_loss: nan - val_accuracy: 0.0000e+00 - 3s/epoch - 10ms/step\n"
     ]
    }
   ],
   "source": [
    "history = model.fit(x_train, y_train, validation_data = [x_test, y_test], epochs = 20, batch_size = 64, verbose=2)"
   ]
  },
  {
   "cell_type": "code",
   "execution_count": 21,
   "metadata": {},
   "outputs": [
    {
     "name": "stdout",
     "output_type": "stream",
     "text": [
      "58/58 [==============================] - 0s 5ms/step - loss: nan - accuracy: 0.0000e+00\n"
     ]
    },
    {
     "data": {
      "text/plain": [
       "[nan, 0.0]"
      ]
     },
     "execution_count": 21,
     "metadata": {},
     "output_type": "execute_result"
    }
   ],
   "source": [
    "score = model.evaluate(x_test,y_test, batch_size=64)\n",
    "score"
   ]
  },
  {
   "cell_type": "code",
   "execution_count": null,
   "metadata": {},
   "outputs": [],
   "source": []
  }
 ],
 "metadata": {
  "interpreter": {
   "hash": "32a797c5569203baa308ccdf935e7b699fe5a2ef5e18bd6e0a3aea8e28291ff8"
  },
  "kernelspec": {
   "display_name": "Python 3.10.1 64-bit",
   "language": "python",
   "name": "python3"
  },
  "language_info": {
   "codemirror_mode": {
    "name": "ipython",
    "version": 3
   },
   "file_extension": ".py",
   "mimetype": "text/x-python",
   "name": "python",
   "nbconvert_exporter": "python",
   "pygments_lexer": "ipython3",
   "version": "3.10.1"
  },
  "orig_nbformat": 4
 },
 "nbformat": 4,
 "nbformat_minor": 2
}
